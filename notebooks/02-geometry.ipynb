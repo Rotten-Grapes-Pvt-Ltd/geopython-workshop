{
 "cells": [
  {
   "cell_type": "markdown",
   "metadata": {},
   "source": [
    "# Geometry\n",
    "\n",
    "This lesson brings you a bit back to highschool math: (Euclidian) Geometry, \n",
    "hopefully with more fun as within (geo)spatial IT/GIS we usually deal with\n",
    "real-world objects (roads, lakes, forests, etc) abstracted as geometries.\n",
    "\n",
    "> *Geometry (from the Ancient Greek: γεωμετρία; geo- \"earth\", -metron \"measurement\")* \n",
    "> *is a branch of mathematics concerned with questions of shape, size, relative* \n",
    "> *position of figures, and the properties of space.* Source: [Wikipedia](https://en.wikipedia.org/wiki/Geometry)\n",
    "\n",
    "Within the geospatial domain we mainly deal with **Geometries** (at least for Vector data)\n",
    "where Euclidian math applies. Vector data is encoded with coordinates \n",
    "mostly X, Y (sometimes also Z for 3D) representing **three basic Geometry types**: \n",
    "\n",
    "* **Points**\n",
    "* **Lines** (a.k.a. LineStrings, Curves)\n",
    "* **Polygons** (a.k.a. Surfaces)\n",
    "\n",
    "These are used to represent phenomenons like: \n",
    "\n",
    "* city centers, Point of Interests (PoIs), ...   (Points)\n",
    "* roads, rivers, ... (Lines)\n",
    "* forests, lakes, countries, ... (Polygons)\n",
    "\n",
    "To make it a bit more complex: these three basic Geometries are often extended and even\n",
    "combined to form collections called **\"Multi\" Geometries**:\n",
    " \n",
    "* a collection of Points is called a *MultiPoint*\n",
    "* a collection of Lines is called a *MultiLine* (a.k.a. *MultiLineString*) \n",
    "* a collection of Polygons is called a  *MultiPolygon* (a.k.a. *MultiSurface*)  \n",
    "\n",
    "These collections are useful for modeling certain kinds of features. \n",
    "A collection of borders for a country is typically a *MultiLine(String)* (think of UK borders,..hint: Northern Ireland).\n",
    "A country like Greece, The Netherlands or Canada is typically \n",
    "a *MultiPolygon* (think of: mainland + islands). A Polygon can even have **holes** (think of *Enclaves*).\n",
    "\n",
    "We will be working mainly with [Shapely](https://shapely.readthedocs.io), a Python package for \n",
    "set-theoretic analysis and manipulation of, yes, geometries!\n",
    "Shapely provides a spatial data model (see image below) that basically implements\n",
    "the above geometry types plus variants and the (mathematic) manipulations on these.\n",
    " \n",
    "![Spatial data model](images/spatialdatamodel.png)\n",
    "*Fundamental geometric objects that can be used in Python with* the [Shapely](https://shapely.readthedocs.io/en/latest/manual.html) *package*\n",
    "\n",
    "## Background reading\n",
    "\n",
    "* https://en.wikipedia.org/wiki/Geometry\n",
    "* Shapely User Manual: https://shapely.readthedocs.io/en/stable/manual.html\n",
    "* https://automating-gis-processes.github.io/CSC/notebooks/L1/geometric-objects.html\n",
    "* Spatial Relations: [Dimensionally Extended nine-Intersection Model (DE-9IM)](https://en.wikipedia.org/wiki/DE-9IM)\n"
   ]
  },
  {
   "cell_type": "markdown",
   "metadata": {},
   "source": [
    "## Shapely basics\n",
    "Shapely is concerned with Geometries in general, not necessarily Geospatial geometries.\n",
    "As such we can introduce Shapely basics using the well-known Euclidian X,Y plane.\n",
    "\n",
    "### Shapely Points"
   ]
  },
  {
   "cell_type": "code",
   "execution_count": 1,
   "metadata": {
    "pycharm": {
     "name": "#%%\n"
    }
   },
   "outputs": [],
   "source": [
    "from shapely.geometry import Point\n",
    "\n",
    "point1 = Point(0.0, 0.0)"
   ]
  },
  {
   "cell_type": "code",
   "execution_count": 2,
   "metadata": {
    "pycharm": {
     "name": "#%%\n"
    }
   },
   "outputs": [
    {
     "data": {
      "text/plain": [
       "0.0"
      ]
     },
     "execution_count": 2,
     "metadata": {},
     "output_type": "execute_result"
    }
   ],
   "source": [
    "point1.area"
   ]
  },
  {
   "cell_type": "code",
   "execution_count": 3,
   "metadata": {
    "pycharm": {
     "name": "#%%\n"
    }
   },
   "outputs": [
    {
     "data": {
      "text/plain": [
       "0.0"
      ]
     },
     "execution_count": 3,
     "metadata": {},
     "output_type": "execute_result"
    }
   ],
   "source": [
    "point1.length"
   ]
  },
  {
   "cell_type": "code",
   "execution_count": 4,
   "metadata": {
    "pycharm": {
     "name": "#%%\n"
    }
   },
   "outputs": [
    {
     "data": {
      "text/plain": [
       "'POINT (0 0)'"
      ]
     },
     "execution_count": 4,
     "metadata": {},
     "output_type": "execute_result"
    }
   ],
   "source": [
    "# Show Well-Known Text (WKT) representation\n",
    "point1.wkt"
   ]
  },
  {
   "cell_type": "code",
   "execution_count": 5,
   "metadata": {
    "pycharm": {
     "name": "#%%\n"
    }
   },
   "outputs": [
    {
     "data": {
      "text/plain": [
       "5.0"
      ]
     },
     "execution_count": 5,
     "metadata": {},
     "output_type": "execute_result"
    }
   ],
   "source": [
    "point2 = Point(3, 4)\n",
    "\n",
    "# Pythagoras Theorem here!\n",
    "point1.distance(point2)"
   ]
  },
  {
   "cell_type": "markdown",
   "metadata": {},
   "source": [
    "### Shapely LineStrings\n"
   ]
  },
  {
   "cell_type": "code",
   "execution_count": 6,
   "metadata": {
    "pycharm": {
     "name": "#%%\n"
    }
   },
   "outputs": [],
   "source": [
    "from shapely.geometry import LineString\n",
    "line = LineString([(0, 0), (3, 4)])"
   ]
  },
  {
   "cell_type": "code",
   "execution_count": 7,
   "metadata": {
    "pycharm": {
     "name": "#%%\n"
    }
   },
   "outputs": [
    {
     "data": {
      "text/plain": [
       "0.0"
      ]
     },
     "execution_count": 7,
     "metadata": {},
     "output_type": "execute_result"
    }
   ],
   "source": [
    "line.area"
   ]
  },
  {
   "cell_type": "code",
   "execution_count": 8,
   "metadata": {
    "pycharm": {
     "name": "#%%\n"
    }
   },
   "outputs": [
    {
     "data": {
      "text/plain": [
       "5.0"
      ]
     },
     "execution_count": 8,
     "metadata": {},
     "output_type": "execute_result"
    }
   ],
   "source": [
    "line.length"
   ]
  },
  {
   "cell_type": "markdown",
   "metadata": {},
   "source": [
    "### Shapely Polygons\n"
   ]
  },
  {
   "cell_type": "code",
   "execution_count": 9,
   "metadata": {
    "pycharm": {
     "name": "#%%\n"
    }
   },
   "outputs": [
    {
     "data": {
      "image/svg+xml": [
       "<svg xmlns=\"http://www.w3.org/2000/svg\" xmlns:xlink=\"http://www.w3.org/1999/xlink\" width=\"100.0\" height=\"100.0\" viewBox=\"-0.16 -0.16 3.3200000000000003 4.32\" preserveAspectRatio=\"xMinYMin meet\"><g transform=\"matrix(1,0,0,-1,0,4.0)\"><path fill-rule=\"evenodd\" fill=\"#66cc99\" stroke=\"#555555\" stroke-width=\"0.0864\" opacity=\"0.6\" d=\"M 0.0,0.0 L 3.0,4.0 L 3.0,0.0 L 0.0,0.0 z\" /></g></svg>"
      ],
      "text/plain": [
       "<POLYGON ((0 0, 3 4, 3 0, 0 0))>"
      ]
     },
     "execution_count": 9,
     "metadata": {},
     "output_type": "execute_result"
    }
   ],
   "source": [
    "from shapely.geometry import Polygon\n",
    "polygon = Polygon([(0, 0), (3, 4), (3, 0)])\n",
    "polygon"
   ]
  },
  {
   "cell_type": "code",
   "execution_count": 10,
   "metadata": {
    "pycharm": {
     "name": "#%%\n"
    }
   },
   "outputs": [
    {
     "data": {
      "text/plain": [
       "[(0.0, 0.0), (3.0, 4.0), (3.0, 0.0), (0.0, 0.0)]"
      ]
     },
     "execution_count": 10,
     "metadata": {},
     "output_type": "execute_result"
    }
   ],
   "source": [
    "# Convert coordinates to list\n",
    "# polygon.coords does not exist!\n",
    "list(polygon.exterior.coords)"
   ]
  },
  {
   "cell_type": "code",
   "execution_count": 11,
   "metadata": {
    "pycharm": {
     "name": "#%%\n"
    }
   },
   "outputs": [
    {
     "data": {
      "text/plain": [
       "6.0"
      ]
     },
     "execution_count": 11,
     "metadata": {},
     "output_type": "execute_result"
    }
   ],
   "source": [
    "polygon.area"
   ]
  },
  {
   "cell_type": "code",
   "execution_count": 12,
   "metadata": {
    "pycharm": {
     "name": "#%%\n"
    }
   },
   "outputs": [
    {
     "data": {
      "text/plain": [
       "12.0"
      ]
     },
     "execution_count": 12,
     "metadata": {},
     "output_type": "execute_result"
    }
   ],
   "source": [
    "polygon.length"
   ]
  },
  {
   "cell_type": "code",
   "execution_count": 13,
   "metadata": {
    "pycharm": {
     "name": "#%%\n"
    }
   },
   "outputs": [
    {
     "data": {
      "text/plain": [
       "(0.0, 0.0, 3.0, 4.0)"
      ]
     },
     "execution_count": 13,
     "metadata": {},
     "output_type": "execute_result"
    }
   ],
   "source": [
    "# Its x-y bounding box is a (minx, miny, maxx, maxy) tuple.\n",
    "polygon.bounds"
   ]
  },
  {
   "cell_type": "markdown",
   "metadata": {},
   "source": [
    "### More on Shapely  \n",
    "\n",
    "[Shapely](https://shapely.readthedocs.io/en/stable/manual.html) is a Python package for \n",
    "set-theoretic analysis and manipulation of planar features using (via Python’s ctypes module) \n",
    "functions from the well-known and widely deployed [GEOS library](https://trac.osgeo.org/geos). \n",
    "GEOS, a port of the [JTS Topology Suite](https://locationtech.github.io/jts) (JTS), \n",
    "is the geometry engine of the PostGIS spatial extension for the PostgreSQL RDBMS and \n",
    "many others like GDAL/OGR.\n",
    " \n",
    "The designs of JTS and GEOS are largely guided by the \n",
    "Open Geospatial Consortium‘s (OGC) and ISO 19125 \n",
    "*Simple Features (Access) Specification* [ref](https://en.wikipedia.org/wiki/Simple_Features). \n",
    "Shapely adheres mainly to the same set of standard classes and operations. \n",
    "Shapely is thereby deeply rooted in the conventions of the geographic information systems (GIS) world, \n",
    "but aspires to be equally useful to programmers working on non-conventional problems.\n",
    "\n",
    "From the [Shapely manual](https://shapely.readthedocs.io/en/stable/manual.html): \n",
    "\n",
    "> **Relationships**\n",
    "> The spatial data model is accompanied by a group of natural language relationships between \n",
    "> geometric objects – *contains, intersects, overlaps, touches*, etc. – and a theoretical \n",
    "> framework for understanding them using the 3x3 matrix of the mutual intersections \n",
    "> of their component point sets: the [DE-9IM](https://en.wikipedia.org/wiki/DE-9IM). \n",
    "\n",
    "> **Operations**\n",
    "> Following the JTS technical specs .... make a distinction between constructive \n",
    "> (*buffer, convex hull*) and set-theoretic operations (*intersection, union*, etc.). \n",
    "\n",
    "So think of Shapely as providing a **Spatial (Class) Model** with functions/operations for:\n",
    "\n",
    "* **Spatial Relationships** - *contains, intersects, overlaps, touches*, ...\n",
    "* **Spatial Operations** - *buffer, convex hull, intersection, union*, ..."
   ]
  },
  {
   "cell_type": "markdown",
   "metadata": {},
   "source": [
    "### Exploring spatial relationships with Shapely\n",
    "Fundamental to Geometry-math are *Spatial Relationships*. See the simplified view below. More [on Wikipedia](https://en.wikipedia.org/wiki/Spatial_relation).\n",
    "\n",
    "![(Topological) Spatial Relationships](images/spatialrelations.png)\n",
    "*Examples of topological spatial relations - [By Krauss - Own work, CC BY-SA 3.0](https://commons.wikimedia.org/w/index.php?curid=21299138)*\n",
    "\n",
    "If you want to dive into\n",
    "a theoretical background, check out the [Dimensionally Extended nine-Intersection Model (DE-9IM)](https://en.wikipedia.org/wiki/DE-9IM). \n",
    "\n",
    "Spatial Relationships are often central within *(Geo)Spatial Analysis* we will explore [later](06-data-analysis.ipynb).\n",
    "\n",
    "Shapely has excellent support for *(Topological) Spatial Relationships*. With Shapely, we can solve tasks and questions like:\n",
    "\n",
    "* What is the area of The Netherlands?\n",
    "* What is the distance between Amsterdam and Athens?\n",
    "* How long is The Donau?\n",
    "* Do two features overlap or intersect? Does the Donau float through Romania?\n",
    "* How does the common area of two features look like?\n",
    "* Create a buffer area around the feature.\n",
    "* ...\n",
    "\n",
    "Thus before revoking to advanced analysis tools, already some \n",
    "powerful GIS-questions can be solved with just Shapely alone! As a warm-up, let's explore \n",
    "some of Shapely's spatial relationship functions here.\n",
    "\n",
    "First some boolean operations (**Spatial Relationships**):\n"
   ]
  },
  {
   "cell_type": "code",
   "execution_count": 14,
   "metadata": {
    "pycharm": {
     "name": "#%%\n"
    }
   },
   "outputs": [
    {
     "data": {
      "text/plain": [
       "True"
      ]
     },
     "execution_count": 14,
     "metadata": {},
     "output_type": "execute_result"
    }
   ],
   "source": [
    "from shapely.geometry import LineString, Polygon\n",
    "\n",
    "ls = LineString([(0, 0), (1, 1)])\n",
    "ls.contains(Point(0.5, 0.5))"
   ]
  },
  {
   "cell_type": "code",
   "execution_count": 15,
   "metadata": {
    "pycharm": {
     "name": "#%%\n"
    }
   },
   "outputs": [
    {
     "data": {
      "text/plain": [
       "True"
      ]
     },
     "execution_count": 15,
     "metadata": {},
     "output_type": "execute_result"
    }
   ],
   "source": [
    "ls2 = LineString([(0, 1), (1, 0)])\n",
    "ls.crosses(ls2)"
   ]
  },
  {
   "cell_type": "code",
   "execution_count": 16,
   "metadata": {
    "pycharm": {
     "name": "#%%\n"
    }
   },
   "outputs": [
    {
     "data": {
      "text/plain": [
       "True"
      ]
     },
     "execution_count": 16,
     "metadata": {},
     "output_type": "execute_result"
    }
   ],
   "source": [
    "polygon = Polygon([(0, 0), (3, 4), (3, 0)])\n",
    "polygon.contains(Point(0.5, 0.5))"
   ]
  },
  {
   "cell_type": "markdown",
   "metadata": {
    "pycharm": {
     "name": "#%% md\n"
    }
   },
   "source": [
    "#### Analysis methods \n",
    "Next some analysis methods that return new geometric objects.\n"
   ]
  },
  {
   "cell_type": "code",
   "execution_count": 17,
   "metadata": {
    "pycharm": {
     "name": "#%%\n"
    }
   },
   "outputs": [
    {
     "name": "stdout",
     "output_type": "stream",
     "text": [
      "POINT (0.5 0.5)\n"
     ]
    }
   ],
   "source": [
    "ls = LineString([(0, 0), (1, 1)])\n",
    "print(ls.centroid)"
   ]
  },
  {
   "cell_type": "code",
   "execution_count": 18,
   "metadata": {
    "pycharm": {
     "name": "#%%\n"
    }
   },
   "outputs": [
    {
     "name": "stdout",
     "output_type": "stream",
     "text": [
      "POINT (0.5 0.5)\n"
     ]
    }
   ],
   "source": [
    "ls2 = LineString([(0, 1), (1, 0)])\n",
    "print(ls.intersection(ls2))"
   ]
  },
  {
   "cell_type": "code",
   "execution_count": 19,
   "metadata": {
    "pycharm": {
     "name": "#%%\n"
    }
   },
   "outputs": [
    {
     "name": "stdout",
     "output_type": "stream",
     "text": [
      "LINESTRING (1 1, 2 2)\n"
     ]
    }
   ],
   "source": [
    "polygon = Polygon([(1, 1), (1,2), (2,2), (2,1)])\n",
    "ls3 = LineString([(0, 0), (3,3)])\n",
    "print(polygon.intersection(ls3))"
   ]
  },
  {
   "cell_type": "code",
   "execution_count": 20,
   "metadata": {
    "pycharm": {
     "name": "#%%\n"
    }
   },
   "outputs": [
    {
     "data": {
      "image/svg+xml": [
       "<svg xmlns=\"http://www.w3.org/2000/svg\" xmlns:xlink=\"http://www.w3.org/1999/xlink\" width=\"100.0\" height=\"100.0\" viewBox=\"-0.04 -0.04 1.08 1.08\" preserveAspectRatio=\"xMinYMin meet\"><g transform=\"matrix(1,0,0,-1,0,1.0)\"><polyline fill=\"none\" stroke=\"#66cc99\" stroke-width=\"0.0216\" points=\"0.0,0.0 1.0,1.0\" opacity=\"0.8\" /></g></svg>"
      ],
      "text/plain": [
       "<LINESTRING (0 0, 1 1)>"
      ]
     },
     "execution_count": 20,
     "metadata": {},
     "output_type": "execute_result"
    }
   ],
   "source": [
    "ls = LineString([(0, 0), (1, 1)])\n",
    "ls"
   ]
  },
  {
   "cell_type": "code",
   "execution_count": 21,
   "metadata": {
    "pycharm": {
     "name": "#%%\n"
    }
   },
   "outputs": [
    {
     "name": "stdout",
     "output_type": "stream",
     "text": [
      "POLYGON ((0.8585786437626906 1.1414213562373094, 0.8731213431672709 1.1546020906725474, 0.8888859533960796 1.1662939224605091, 0.9057206526348005 1.176384252869671, 0.9234633135269821 1.1847759065022574, 0.9419430645491076 1.1913880671464419, 0.9609819355967744 1.196157056080646, 0.9803965719340879 1.1990369453344394, 1 1.2, 1.019603428065912 1.1990369453344394, 1.0390180644032256 1.196157056080646, 1.0580569354508924 1.1913880671464419, 1.076536686473018 1.1847759065022574, 1.0942793473651995 1.176384252869671, 1.1111140466039204 1.1662939224605091, 1.1268786568327291 1.1546020906725474, 1.1414213562373094 1.1414213562373094, 1.1546020906725474 1.1268786568327291, 1.1662939224605091 1.1111140466039204, 1.176384252869671 1.0942793473651995, 1.1847759065022574 1.076536686473018, 1.1913880671464419 1.0580569354508924, 1.196157056080646 1.0390180644032256, 1.1990369453344394 1.019603428065912, 1.2 1, 1.1990369453344394 0.9803965719340879, 1.196157056080646 0.9609819355967744, 1.1913880671464419 0.9419430645491076, 1.1847759065022574 0.9234633135269821, 1.176384252869671 0.9057206526348005, 1.1662939224605091 0.8888859533960796, 1.1546020906725474 0.8731213431672709, 1.1414213562373094 0.8585786437626906, 0.1414213562373095 -0.1414213562373095, 0.1268786568327291 -0.1546020906725474, 0.1111140466039205 -0.1662939224605091, 0.0942793473651996 -0.176384252869671, 0.076536686473018 -0.1847759065022574, 0.0580569354508925 -0.1913880671464418, 0.0390180644032257 -0.1961570560806461, 0.0196034280659122 -0.1990369453344394, 0 -0.2, -0.0196034280659121 -0.1990369453344394, -0.0390180644032256 -0.1961570560806461, -0.0580569354508924 -0.1913880671464418, -0.076536686473018 -0.1847759065022574, -0.0942793473651996 -0.176384252869671, -0.1111140466039204 -0.1662939224605091, -0.1268786568327291 -0.1546020906725474, -0.1414213562373095 -0.1414213562373095, -0.1546020906725474 -0.1268786568327291, -0.1662939224605091 -0.1111140466039204, -0.176384252869671 -0.0942793473651996, -0.1847759065022574 -0.076536686473018, -0.1913880671464418 -0.0580569354508925, -0.1961570560806461 -0.0390180644032257, -0.1990369453344394 -0.0196034280659122, -0.2 0, -0.1990369453344394 0.0196034280659121, -0.1961570560806461 0.0390180644032257, -0.1913880671464418 0.0580569354508924, -0.1847759065022574 0.0765366864730179, -0.176384252869671 0.0942793473651995, -0.1662939224605091 0.1111140466039204, -0.1546020906725474 0.1268786568327291, -0.1414213562373095 0.1414213562373095, 0.8585786437626906 1.1414213562373094))\n"
     ]
    },
    {
     "data": {
      "image/svg+xml": [
       "<svg xmlns=\"http://www.w3.org/2000/svg\" xmlns:xlink=\"http://www.w3.org/1999/xlink\" width=\"100.0\" height=\"100.0\" viewBox=\"-0.256 -0.256 1.512 1.512\" preserveAspectRatio=\"xMinYMin meet\"><g transform=\"matrix(1,0,0,-1,0,1.0)\"><path fill-rule=\"evenodd\" fill=\"#66cc99\" stroke=\"#555555\" stroke-width=\"0.03024\" opacity=\"0.6\" d=\"M 0.8585786437626906,1.1414213562373094 L 0.8731213431672709,1.1546020906725474 L 0.8888859533960796,1.1662939224605091 L 0.9057206526348005,1.176384252869671 L 0.9234633135269821,1.1847759065022574 L 0.9419430645491076,1.1913880671464419 L 0.9609819355967744,1.196157056080646 L 0.9803965719340879,1.1990369453344394 L 1.0,1.2 L 1.019603428065912,1.1990369453344394 L 1.0390180644032256,1.196157056080646 L 1.0580569354508924,1.1913880671464419 L 1.076536686473018,1.1847759065022574 L 1.0942793473651995,1.176384252869671 L 1.1111140466039204,1.1662939224605091 L 1.1268786568327291,1.1546020906725474 L 1.1414213562373094,1.1414213562373094 L 1.1546020906725474,1.1268786568327291 L 1.1662939224605091,1.1111140466039204 L 1.176384252869671,1.0942793473651995 L 1.1847759065022574,1.076536686473018 L 1.1913880671464419,1.0580569354508924 L 1.196157056080646,1.0390180644032256 L 1.1990369453344394,1.019603428065912 L 1.2,1.0 L 1.1990369453344394,0.9803965719340879 L 1.196157056080646,0.9609819355967744 L 1.1913880671464419,0.9419430645491076 L 1.1847759065022574,0.9234633135269821 L 1.176384252869671,0.9057206526348005 L 1.1662939224605091,0.8888859533960796 L 1.1546020906725474,0.8731213431672709 L 1.1414213562373094,0.8585786437626906 L 0.1414213562373095,-0.1414213562373095 L 0.12687865683272911,-0.1546020906725474 L 0.11111404660392046,-0.16629392246050906 L 0.09427934736519956,-0.176384252869671 L 0.07653668647301798,-0.18477590650225736 L 0.058056935450892466,-0.1913880671464418 L 0.039018064403225666,-0.1961570560806461 L 0.019603428065912157,-0.19903694533443939 L 1.2246467991473533e-17,-0.2 L -0.01960342806591213,-0.19903694533443939 L -0.03901806440322564,-0.1961570560806461 L -0.05805693545089244,-0.1913880671464418 L -0.07653668647301795,-0.18477590650225736 L -0.09427934736519955,-0.17638425286967102 L -0.1111140466039204,-0.1662939224605091 L -0.1268786568327291,-0.15460209067254743 L -0.1414213562373095,-0.14142135623730953 L -0.1546020906725474,-0.12687865683272911 L -0.16629392246050909,-0.11111404660392044 L -0.176384252869671,-0.09427934736519958 L -0.18477590650225736,-0.07653668647301798 L -0.19138806714644177,-0.05805693545089248 L -0.1961570560806461,-0.03901806440322572 L -0.19903694533443939,-0.019603428065912167 L -0.2,-2.4492935982947065e-17 L -0.19903694533443939,0.01960342806591212 L -0.1961570560806461,0.03901806440322567 L -0.1913880671464418,0.058056935450892425 L -0.1847759065022574,0.07653668647301794 L -0.17638425286967102,0.09427934736519954 L -0.1662939224605091,0.1111140466039204 L -0.15460209067254743,0.12687865683272906 L -0.1414213562373095,0.1414213562373095 L 0.8585786437626906,1.1414213562373094 z\" /></g></svg>"
      ],
      "text/plain": [
       "<POLYGON ((0.859 1.141, 0.873 1.155, 0.889 1.166, 0.906 1.176, 0.923 1.185, ...>"
      ]
     },
     "execution_count": 21,
     "metadata": {},
     "output_type": "execute_result"
    }
   ],
   "source": [
    "# Place a buffer around the LineString\n",
    "poly1 = ls.buffer(0.2)\n",
    "print(poly1)\n",
    "poly1"
   ]
  },
  {
   "cell_type": "markdown",
   "metadata": {
    "pycharm": {
     "name": "#%% md\n"
    }
   },
   "source": [
    "We will revisit Shapely for more Spatial Relationships and Operations in the [Data Analysis Lesson](06-data-analysis.ipynb).\n"
   ]
  },
  {
   "cell_type": "markdown",
   "metadata": {},
   "source": [
    "### About projections and Shapely\n",
    "\n",
    "> *Shapely does not support coordinate system transformations.*\n",
    "> *All operations on two or more features presume that the features exist in the same Cartesian plane.*\n",
    "> Source: https://shapely.readthedocs.io/en/stable/manual.html#coordinate-systems\n",
    "\n",
    "In Shapely, the distance is the Euclidean Distance or \n",
    "Linear distance (Pythagoras Law!) between for example two points on a plane and not the \n",
    "[Great-circle distance](https://en.wikipedia.org/wiki/Great-circle_distance) between two points on a sphere!\n",
    "If you are working with data in WGS84 (EPSG:4326), 'lat/lon' (think of GPS coordinates) in degrees,\n",
    "Shapely's calculations like `length` and `area` will not render what you would expect. \n",
    "\n",
    "We have several options here. See also [this SE discussion](https://gis.stackexchange.com/questions/80881/what-is-unit-of-shapely-length-attribute):\n",
    "\n",
    "* add-hoc: calculate the [Great Circle Distance](https://en.wikipedia.org/wiki/Great-circle_distance), using functions for the [Haversine Formula](https://en.wikipedia.org/wiki/Haversine_formula) or [Law of Cosines](https://en.wikipedia.org/wiki/Spherical_law_of_cosines).\n",
    "* reproject your source data to a 'metric' projection like Web Mercator (EPSG:3857, worldwide, used for tiles by Google, OSM and others) using e.g. GDAL or GeoPandas (uses `pyproj`). \n",
    "* use `pyproj` directly to apply the proper formulas\n",
    "\n",
    "Below an example to illustrate:\n"
   ]
  },
  {
   "cell_type": "code",
   "execution_count": 1,
   "metadata": {
    "pycharm": {
     "name": "#%%\n"
    }
   },
   "outputs": [
    {
     "data": {
      "text/plain": [
       "1.000199980003999"
      ]
     },
     "execution_count": 1,
     "metadata": {},
     "output_type": "execute_result"
    }
   ],
   "source": [
    "from shapely.geometry import Point\n",
    "\n",
    "point1 = Point(50.67, 4.62)\n",
    "point2 = Point(51.67, 4.64)\n",
    "\n",
    "# Shapely Distance in degrees\n",
    "point1.distance(point2)"
   ]
  },
  {
   "cell_type": "markdown",
   "metadata": {},
   "source": [
    "Using `pyproj` to do get real distance in km according to WGS84:\n"
   ]
  },
  {
   "cell_type": "code",
   "execution_count": 2,
   "metadata": {
    "pycharm": {
     "name": "#%%\n"
    }
   },
   "outputs": [
    {
     "data": {
      "text/plain": [
       "110.9806766471818"
      ]
     },
     "execution_count": 2,
     "metadata": {},
     "output_type": "execute_result"
    }
   ],
   "source": [
    "import pyproj\n",
    "geod = pyproj.Geod(ellps='WGS84')\n",
    "angle1,angle2,distance = geod.inv(point1.x, point1.y, point2.x, point2.y)\n",
    "\n",
    "# \"Real\" Distance in km\n",
    "distance / 1000.0   "
   ]
  },
  {
   "cell_type": "markdown",
   "metadata": {
    "pycharm": {
     "name": "#%% md\n"
    }
   },
   "source": [
    "---\n",
    "[<- Introduction](01-introduction.ipynb) | [Spatial Reference Systems ->](03-spatial-reference-systems.ipynb)"
   ]
  },
  {
   "cell_type": "markdown",
   "metadata": {},
   "source": []
  },
  {
   "cell_type": "markdown",
   "metadata": {},
   "source": []
  }
 ],
 "metadata": {
  "kernelspec": {
   "display_name": "Python 3 (ipykernel)",
   "language": "python",
   "name": "python3"
  },
  "language_info": {
   "codemirror_mode": {
    "name": "ipython",
    "version": 3
   },
   "file_extension": ".py",
   "mimetype": "text/x-python",
   "name": "python",
   "nbconvert_exporter": "python",
   "pygments_lexer": "ipython3",
   "version": "3.10.12"
  },
  "pycharm": {
   "stem_cell": {
    "cell_type": "raw",
    "metadata": {
     "collapsed": false
    },
    "source": []
   }
  }
 },
 "nbformat": 4,
 "nbformat_minor": 2
}
