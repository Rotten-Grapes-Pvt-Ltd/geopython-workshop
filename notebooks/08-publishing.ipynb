{
 "cells": [
  {
   "cell_type": "markdown",
   "metadata": {},
   "source": [
    "# Publishing\n",
    "\n",
    "**NB This Section is optional and not included in the FOSS4G 2023 Workshop**\n",
    "\n",
    "Following if time is left or at home may still be valuable. \n",
    "\n",
    "\n",
    "## Overview\n",
    "Dissemination is a key component of any geospatial data management lifecycle and the Internet is the key gateway in sharing your data with others.  Putting your data on the web has never been easier with services from Google, GitHub, Amazon, Azure, DigitalOcean, and others, as well as numerous tools for making data available through application programming interfaces (APIs).\n",
    "\n",
    "Publishing geospatial geospatial data has varying degrees of complexity.  From simply posting files to a web server to provisioning services and APIs, there is no shortage of mechanisms to publish your data.\n",
    "\n",
    "In this section, we will focus on publishing a python script using Streamlit utility. We'll look at how to get started and some of the main concepts and why streamlit might be a fit for your use case.\n"
   ]
  },
  {
   "cell_type": "markdown",
   "metadata": {},
   "source": [
    "## Streamlit \n",
    "\n",
    "Streamlit is a Python library that is designed to create web applications for data science and machine learning with minimal effort. It is particularly useful for quickly turning data scripts into shareable web apps. Here are some key use cases for Streamlit:\n",
    "\n",
    "    - Data Exploration and Visualization: Streamlit is excellent for creating interactive and dynamic visualizations to explore and communicate data insights.\n",
    "\n",
    "    - Prototyping and Dashboards: It is well-suited for rapidly prototyping data-driven applications and building simple dashboards without extensive web development knowledge.\n",
    "\n",
    "    - Machine Learning Prototypes: Streamlit can be used to showcase and deploy machine learning models for demonstration and testing purposes, providing a user-friendly interface for interaction.\n",
    "\n",
    "    - Data Apps for Non-Technical Users: It's great for creating data applications that can be easily shared with non-technical stakeholders, allowing them to interact with data without coding knowledge.\n",
    "\n",
    "    - Educational Tools: Streamlit can be used to build interactive educational tools and tutorials, making it easier to teach and share concepts in a more engaging way.\n",
    "\n",
    "**When to Use Streamlit**:\n",
    "\n",
    "    Rapid Prototyping: When you need to quickly prototype and share data applications without spending too much time on web development.\n",
    "\n",
    "    Data Visualization: If your goal is to create interactive and visually appealing data visualizations with minimal code.\n",
    "\n",
    "    Streamlining Data Science Workflows: When you want to streamline and share your data science workflows and results with others.\n",
    "\n",
    "    User-Friendly Interfaces: If you need to create user-friendly interfaces for your data science or machine learning models.\n",
    "\n",
    "**When Not to Use Streamlit**:\n",
    "\n",
    "    Complex Web Applications: If you are building complex and feature-rich web applications, Streamlit might be too simplistic. In such cases, a more robust web framework might be more suitable.\n",
    "\n",
    "    Full-Stack Development: If you require extensive control over the backend, frontend, and database interactions, you might want to use a full-stack web development framework instead.\n",
    "\n",
    "    Large-Scale Applications: For large-scale production applications with high traffic and scalability requirements, a more powerful and scalable web framework might be necessary.\n",
    "\n",
    "In summary, Streamlit is a fantastic tool for quickly creating data-driven web applications and prototypes, especially when simplicity and speed are prioritized. However, for more complex and large-scale applications, or when extensive customization is needed, other web frameworks might be more appropriate.\n"
   ]
  },
  {
   "cell_type": "code",
   "execution_count": 1,
   "metadata": {},
   "outputs": [],
   "source": [
    "### Using streamlit is pretty starightforward "
   ]
  },
  {
   "cell_type": "code",
   "execution_count": 2,
   "metadata": {},
   "outputs": [
    {
     "name": "stdout",
     "output_type": "stream",
     "text": [
      "Collecting streamlit\n",
      "  Using cached streamlit-1.28.2-py2.py3-none-any.whl (8.4 MB)\n",
      "Collecting watchdog>=2.1.5\n",
      "  Using cached watchdog-3.0.0-py3-none-manylinux2014_x86_64.whl (82 kB)\n",
      "Collecting pyarrow>=6.0\n",
      "  Using cached pyarrow-14.0.1-cp310-cp310-manylinux_2_28_x86_64.whl (38.0 MB)\n",
      "Collecting gitpython!=3.1.19,<4,>=3.0.7\n",
      "  Using cached GitPython-3.1.40-py3-none-any.whl (190 kB)\n",
      "Collecting pydeck<1,>=0.8.0b4\n",
      "  Using cached pydeck-0.8.1b0-py2.py3-none-any.whl (4.8 MB)\n",
      "Requirement already satisfied: tornado<7,>=6.0.3 in /home/json/work/workshops/foss4g-asia/geopython-workshop/.venv/lib/python3.10/site-packages (from streamlit) (6.2)\n",
      "Requirement already satisfied: pillow<11,>=7.1.0 in /home/json/work/workshops/foss4g-asia/geopython-workshop/.venv/lib/python3.10/site-packages (from streamlit) (10.1.0)\n",
      "Collecting validators<1,>=0.2\n",
      "  Using cached validators-0.22.0-py3-none-any.whl (26 kB)\n",
      "Requirement already satisfied: numpy<2,>=1.19.3 in /home/json/work/workshops/foss4g-asia/geopython-workshop/.venv/lib/python3.10/site-packages (from streamlit) (1.26.2)\n",
      "Collecting tzlocal<6,>=1.1\n",
      "  Using cached tzlocal-5.2-py3-none-any.whl (17 kB)\n",
      "Collecting rich<14,>=10.14.0\n",
      "  Using cached rich-13.7.0-py3-none-any.whl (240 kB)\n",
      "Collecting toml<2,>=0.10.1\n",
      "  Using cached toml-0.10.2-py2.py3-none-any.whl (16 kB)\n",
      "Collecting importlib-metadata<7,>=1.4\n",
      "  Using cached importlib_metadata-6.8.0-py3-none-any.whl (22 kB)\n",
      "Collecting protobuf<5,>=3.20\n",
      "  Using cached protobuf-4.25.1-cp37-abi3-manylinux2014_x86_64.whl (294 kB)\n",
      "Requirement already satisfied: typing-extensions<5,>=4.3.0 in /home/json/work/workshops/foss4g-asia/geopython-workshop/.venv/lib/python3.10/site-packages (from streamlit) (4.8.0)\n",
      "Collecting tenacity<9,>=8.1.0\n",
      "  Using cached tenacity-8.2.3-py3-none-any.whl (24 kB)\n",
      "Requirement already satisfied: click<9,>=7.0 in /home/json/work/workshops/foss4g-asia/geopython-workshop/.venv/lib/python3.10/site-packages (from streamlit) (8.1.7)\n",
      "Collecting cachetools<6,>=4.0\n",
      "  Using cached cachetools-5.3.2-py3-none-any.whl (9.3 kB)\n",
      "Requirement already satisfied: python-dateutil<3,>=2.7.3 in /home/json/work/workshops/foss4g-asia/geopython-workshop/.venv/lib/python3.10/site-packages (from streamlit) (2.8.2)\n",
      "Collecting altair<6,>=4.0\n",
      "  Using cached altair-5.1.2-py3-none-any.whl (516 kB)\n",
      "Requirement already satisfied: packaging<24,>=16.8 in /home/json/work/workshops/foss4g-asia/geopython-workshop/.venv/lib/python3.10/site-packages (from streamlit) (23.2)\n",
      "Requirement already satisfied: requests<3,>=2.27 in /home/json/work/workshops/foss4g-asia/geopython-workshop/.venv/lib/python3.10/site-packages (from streamlit) (2.31.0)\n",
      "Requirement already satisfied: pandas<3,>=1.3.0 in /home/json/work/workshops/foss4g-asia/geopython-workshop/.venv/lib/python3.10/site-packages (from streamlit) (2.1.3)\n",
      "Collecting blinker<2,>=1.0.0\n",
      "  Using cached blinker-1.7.0-py3-none-any.whl (13 kB)\n",
      "Requirement already satisfied: jsonschema>=3.0 in /home/json/work/workshops/foss4g-asia/geopython-workshop/.venv/lib/python3.10/site-packages (from altair<6,>=4.0->streamlit) (4.20.0)\n",
      "Requirement already satisfied: jinja2 in /home/json/work/workshops/foss4g-asia/geopython-workshop/.venv/lib/python3.10/site-packages (from altair<6,>=4.0->streamlit) (3.1.2)\n",
      "Collecting toolz\n",
      "  Using cached toolz-0.12.0-py3-none-any.whl (55 kB)\n",
      "Collecting gitdb<5,>=4.0.1\n",
      "  Using cached gitdb-4.0.11-py3-none-any.whl (62 kB)\n",
      "Collecting zipp>=0.5\n",
      "  Using cached zipp-3.17.0-py3-none-any.whl (7.4 kB)\n",
      "Requirement already satisfied: tzdata>=2022.1 in /home/json/work/workshops/foss4g-asia/geopython-workshop/.venv/lib/python3.10/site-packages (from pandas<3,>=1.3.0->streamlit) (2023.3)\n",
      "Requirement already satisfied: pytz>=2020.1 in /home/json/work/workshops/foss4g-asia/geopython-workshop/.venv/lib/python3.10/site-packages (from pandas<3,>=1.3.0->streamlit) (2023.3.post1)\n",
      "Requirement already satisfied: six>=1.5 in /home/json/work/workshops/foss4g-asia/geopython-workshop/.venv/lib/python3.10/site-packages (from python-dateutil<3,>=2.7.3->streamlit) (1.16.0)\n",
      "Requirement already satisfied: urllib3<3,>=1.21.1 in /home/json/work/workshops/foss4g-asia/geopython-workshop/.venv/lib/python3.10/site-packages (from requests<3,>=2.27->streamlit) (2.1.0)\n",
      "Requirement already satisfied: idna<4,>=2.5 in /home/json/work/workshops/foss4g-asia/geopython-workshop/.venv/lib/python3.10/site-packages (from requests<3,>=2.27->streamlit) (3.6)\n",
      "Requirement already satisfied: certifi>=2017.4.17 in /home/json/work/workshops/foss4g-asia/geopython-workshop/.venv/lib/python3.10/site-packages (from requests<3,>=2.27->streamlit) (2023.11.17)\n",
      "Requirement already satisfied: charset-normalizer<4,>=2 in /home/json/work/workshops/foss4g-asia/geopython-workshop/.venv/lib/python3.10/site-packages (from requests<3,>=2.27->streamlit) (3.3.2)\n",
      "Collecting markdown-it-py>=2.2.0\n",
      "  Using cached markdown_it_py-3.0.0-py3-none-any.whl (87 kB)\n",
      "Requirement already satisfied: pygments<3.0.0,>=2.13.0 in /home/json/work/workshops/foss4g-asia/geopython-workshop/.venv/lib/python3.10/site-packages (from rich<14,>=10.14.0->streamlit) (2.17.2)\n",
      "Collecting smmap<6,>=3.0.1\n",
      "  Using cached smmap-5.0.1-py3-none-any.whl (24 kB)\n",
      "Requirement already satisfied: MarkupSafe>=2.0 in /home/json/work/workshops/foss4g-asia/geopython-workshop/.venv/lib/python3.10/site-packages (from jinja2->altair<6,>=4.0->streamlit) (2.1.3)\n",
      "Requirement already satisfied: jsonschema-specifications>=2023.03.6 in /home/json/work/workshops/foss4g-asia/geopython-workshop/.venv/lib/python3.10/site-packages (from jsonschema>=3.0->altair<6,>=4.0->streamlit) (2023.11.1)\n",
      "Requirement already satisfied: rpds-py>=0.7.1 in /home/json/work/workshops/foss4g-asia/geopython-workshop/.venv/lib/python3.10/site-packages (from jsonschema>=3.0->altair<6,>=4.0->streamlit) (0.13.1)\n",
      "Requirement already satisfied: referencing>=0.28.4 in /home/json/work/workshops/foss4g-asia/geopython-workshop/.venv/lib/python3.10/site-packages (from jsonschema>=3.0->altair<6,>=4.0->streamlit) (0.31.0)\n",
      "Requirement already satisfied: attrs>=22.2.0 in /home/json/work/workshops/foss4g-asia/geopython-workshop/.venv/lib/python3.10/site-packages (from jsonschema>=3.0->altair<6,>=4.0->streamlit) (23.1.0)\n",
      "Collecting mdurl~=0.1\n",
      "  Using cached mdurl-0.1.2-py3-none-any.whl (10.0 kB)\n",
      "Installing collected packages: zipp, watchdog, validators, tzlocal, toolz, toml, tenacity, smmap, pyarrow, protobuf, mdurl, cachetools, blinker, pydeck, markdown-it-py, importlib-metadata, gitdb, rich, gitpython, altair, streamlit\n",
      "Successfully installed altair-5.1.2 blinker-1.7.0 cachetools-5.3.2 gitdb-4.0.11 gitpython-3.1.40 importlib-metadata-6.8.0 markdown-it-py-3.0.0 mdurl-0.1.2 protobuf-4.25.1 pyarrow-14.0.1 pydeck-0.8.1b0 rich-13.7.0 smmap-5.0.1 streamlit-1.28.2 tenacity-8.2.3 toml-0.10.2 toolz-0.12.0 tzlocal-5.2 validators-0.22.0 watchdog-3.0.0 zipp-3.17.0\n",
      "Note: you may need to restart the kernel to use updated packages.\n"
     ]
    }
   ],
   "source": [
    "pip install streamlit"
   ]
  },
  {
   "cell_type": "code",
   "execution_count": null,
   "metadata": {},
   "outputs": [],
   "source": [
    "# this runs a sample streamlit app on the web\n",
    "streamlit ./uber_streamlit.py"
   ]
  },
  {
   "cell_type": "markdown",
   "metadata": {},
   "source": [
    "### The app looks like below\n",
    "\n",
    "![Uber Streamlit app](./images/streamlit-screenshot.png)"
   ]
  },
  {
   "cell_type": "markdown",
   "metadata": {},
   "source": [
    "### More examples \n",
    "Checkout the repository at: https://github.com/opengeos/streamlit-geospatial\n",
    "Live Demo at: https://huggingface.co/spaces/giswqs/Streamlit\n",
    "\n",
    "### Streamlit Concepts\n",
    "Writing streamlit apps is same as writing regular python scripts with some streamlit sprinkling on top. The only thing to keep in mind is what to draw on the webpage using generic function  `st.write` or specific functions like `st.table`, `st.map` and so on. \n",
    "\n",
    "Details here: https://docs.streamlit.io/library/get-started/main-concepts\n",
    "\n",
    "### Creating your app \n",
    "Creating a streamlit app is very similar to writing a basic python script.\n",
    "You get some data -> Do some analysis -> Visualize the data (using streamlit in this case) \n",
    "\n",
    "### Publishing Apps \n",
    "Now it comes down to sharing the app on the web and show your amazing work to the world. Fortunately streamlit makes it a breeze to make the apps online. \n",
    "You can use Streamlit Community Cloud to deploy, manage, and share your app for free.\n",
    "\n",
    "It works in 3 simple steps:\n",
    "\n",
    "- Put your app in a public GitHub repo (and make sure it has a requirements.txt!)\n",
    "- Sign into share.streamlit.io\n",
    "- Click 'Deploy an app' and then paste in your GitHub URL\n",
    "\n",
    "Source here: https://docs.streamlit.io/library/get-started/create-an-app#share-your-app\n",
    "\n",
    "Streamlit Docs: https://docs.streamlit.io/library/get-started"
   ]
  }
 ],
 "metadata": {
  "kernelspec": {
   "display_name": "Python 3 (ipykernel)",
   "language": "python",
   "name": "python3"
  },
  "language_info": {
   "codemirror_mode": {
    "name": "ipython",
    "version": 3
   },
   "file_extension": ".py",
   "mimetype": "text/x-python",
   "name": "python",
   "nbconvert_exporter": "python",
   "pygments_lexer": "ipython3",
   "version": "3.10.12"
  }
 },
 "nbformat": 4,
 "nbformat_minor": 4
}
